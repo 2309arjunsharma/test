{
 "cells": [
  {
   "cell_type": "code",
   "execution_count": 1,
   "metadata": {},
   "outputs": [
    {
     "name": "stdout",
     "output_type": "stream",
     "text": [
      "Ticket Price: $10\n"
     ]
    }
   ],
   "source": [
    "age=int(input(\"Enter your age: \"))\n",
    "is_student=input(\"Are you a student? (yes/no): \").lower()\n",
    "\n",
    "if age<5:\n",
    "    price=\"Free\"\n",
    "elif age<=12:\n",
    "    price=\"$10\"\n",
    "elif age<=17:\n",
    "    if is_student==\"yes\":\n",
    "        price=\"$12\"\n",
    "    else:\n",
    "        price=\"$15\"\n",
    "elif age<=64:\n",
    "    price=\"$21\"\n",
    "else:\n",
    "    price=\"$19\"\n",
    "\n",
    "print(\"Ticket Price:\", price)\n"
   ]
  }
 ],
 "metadata": {
  "kernelspec": {
   "display_name": "base",
   "language": "python",
   "name": "python3"
  },
  "language_info": {
   "codemirror_mode": {
    "name": "ipython",
    "version": 3
   },
   "file_extension": ".py",
   "mimetype": "text/x-python",
   "name": "python",
   "nbconvert_exporter": "python",
   "pygments_lexer": "ipython3",
   "version": "3.12.4"
  }
 },
 "nbformat": 4,
 "nbformat_minor": 2
}
